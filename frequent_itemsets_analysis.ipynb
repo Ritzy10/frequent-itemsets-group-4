{
 "cells": [
  {
   "cell_type": "code",
   "execution_count": 5,
   "id": "eb9e126c",
   "metadata": {},
   "outputs": [],
   "source": [
    "import pandas as pd\n",
    "import random\n"
   ]
  },
  {
   "cell_type": "markdown",
   "id": "5ec76833",
   "metadata": {},
   "source": [
    "#### Marilyn: \n",
    "- Imported the pandas and random librabries\n",
    "- Simulated the transactions\n",
    "- Saved the transactions to a csv file called  \"'supermarket_transactions.csv'\""
   ]
  },
  {
   "cell_type": "code",
   "execution_count": 6,
   "id": "8384a91e",
   "metadata": {},
   "outputs": [],
   "source": [
    "#define the pool of items that can appear in a transaction\n",
    "item_pool = ['Milk', 'Eggs', 'Butter', 'Cheese', 'Bananas', 'Bread', 'Apples', 'Chicken','pork', 'beef', 'strawberries','pineapples', 'watermelon','lemon','melon', 'avocadoes', 'dragonfruit', 'orange', 'kiwi', 'flour', 'rice', 'sugar','salt','noodles','potato','onion','fruitjuice','garlic', 'okra','cucumbers']\n"
   ]
  },
  {
   "cell_type": "code",
   "execution_count": 7,
   "id": "19851ac0",
   "metadata": {},
   "outputs": [
    {
     "data": {
      "text/html": [
       "<div>\n",
       "<style scoped>\n",
       "    .dataframe tbody tr th:only-of-type {\n",
       "        vertical-align: middle;\n",
       "    }\n",
       "\n",
       "    .dataframe tbody tr th {\n",
       "        vertical-align: top;\n",
       "    }\n",
       "\n",
       "    .dataframe thead th {\n",
       "        text-align: right;\n",
       "    }\n",
       "</style>\n",
       "<table border=\"1\" class=\"dataframe\">\n",
       "  <thead>\n",
       "    <tr style=\"text-align: right;\">\n",
       "      <th></th>\n",
       "      <th>Transaction</th>\n",
       "    </tr>\n",
       "  </thead>\n",
       "  <tbody>\n",
       "    <tr>\n",
       "      <th>0</th>\n",
       "      <td>Cheese, Milk, noodles, pork, Chicken, onion, B...</td>\n",
       "    </tr>\n",
       "    <tr>\n",
       "      <th>1</th>\n",
       "      <td>Cheese, sugar, noodles, orange, Butter, kiwi, ...</td>\n",
       "    </tr>\n",
       "    <tr>\n",
       "      <th>2</th>\n",
       "      <td>Milk, Butter</td>\n",
       "    </tr>\n",
       "    <tr>\n",
       "      <th>3</th>\n",
       "      <td>Chicken, dragonfruit, flour</td>\n",
       "    </tr>\n",
       "    <tr>\n",
       "      <th>4</th>\n",
       "      <td>orange, Apples</td>\n",
       "    </tr>\n",
       "  </tbody>\n",
       "</table>\n",
       "</div>"
      ],
      "text/plain": [
       "                                         Transaction\n",
       "0  Cheese, Milk, noodles, pork, Chicken, onion, B...\n",
       "1  Cheese, sugar, noodles, orange, Butter, kiwi, ...\n",
       "2                                       Milk, Butter\n",
       "3                        Chicken, dragonfruit, flour\n",
       "4                                     orange, Apples"
      ]
     },
     "execution_count": 7,
     "metadata": {},
     "output_type": "execute_result"
    }
   ],
   "source": [
    "# for reproducibility\n",
    "random.seed(42)\n",
    " # List to hold transactions\n",
    "transactions = []\n",
    "# Generate 3000 fake transactions, each with 2–7 random items and store them in a list\n",
    "for _ in range(3000): \n",
    "    num_items = random.randint(2, 7) \n",
    "    transaction = random.sample(item_pool, num_items)\n",
    "    transactions.append(transaction) \n",
    "\n",
    "# Convert the transactions into a DataFrame where each row = one transaction and items separated by comma)\n",
    "transactions_df = pd.DataFrame({'Transaction': [', '.join(items) for items in transactions]})\n",
    "\n",
    "# Save to CSV\n",
    "transactions_df.to_csv('supermarket_transactions.csv', index=False)\n",
    "# Display the first few transactions\n",
    "\n",
    "transactions_df.head()"
   ]
  }
 ],
 "metadata": {
  "kernelspec": {
   "display_name": "Python 3",
   "language": "python",
   "name": "python3"
  },
  "language_info": {
   "codemirror_mode": {
    "name": "ipython",
    "version": 3
   },
   "file_extension": ".py",
   "mimetype": "text/x-python",
   "name": "python",
   "nbconvert_exporter": "python",
   "pygments_lexer": "ipython3",
   "version": "3.12.0"
  }
 },
 "nbformat": 4,
 "nbformat_minor": 5
}
